{
 "cells": [
  {
   "cell_type": "code",
   "execution_count": 16,
   "id": "plain-interim",
   "metadata": {},
   "outputs": [],
   "source": [
    "# Imports:\n",
    "import os\n",
    "import sys\n",
    "import pandas as pd\n",
    "import shutil\n",
    "import cv2\n",
    "\n",
    "# OPTIONS:\n",
    "save_debug_images=1\n",
    "box_thickness = 10\n",
    "box_color = (0, 0, 255)\n",
    "no_none=0"
   ]
  },
  {
   "cell_type": "code",
   "execution_count": 17,
   "id": "under-desperate",
   "metadata": {},
   "outputs": [],
   "source": [
    "# Setup Directories:\n",
    "debug_dir = os.path.join(os.getcwd(),\"results/\")\n",
    "input_dir = os.path.join(os.getcwd(),\"data/images/\")\n",
    "label_dir = os.path.join(os.getcwd(),\"data/labels/\")\n",
    "classes_dir = os.path.join(os.getcwd(),\"data/classes.txt\")\n",
    "\n",
    "# Find image and label:\n",
    "name_of_image=[]\n",
    "directory = os.listdir(input_dir)\n",
    "\n",
    "# Setting up classes:\n",
    "f=open(classes_dir)\n",
    "count=0\n",
    "classkey={}\n",
    "classes={}\n",
    "for line in f:\n",
    "    line=line[:-1]\n",
    "    classkey[line]=[]\n",
    "    classes[count]=line\n",
    "    count+=1\n",
    "if no_none==0:\n",
    "    classkey[\"None\"]=[]\n",
    "    classes[count]=\"None\"\n",
    "box=[\"Class\",\"x\",\"y\",\"w\",\"h\"]\n",
    "\n",
    "for file in directory:\n",
    "    if file.endswith((\".png\",\"jpg\",\"jpeg\")):\n",
    "        name_of_image.append(file)"
   ]
  },
  {
   "cell_type": "code",
   "execution_count": 18,
   "id": "varied-pastor",
   "metadata": {},
   "outputs": [
    {
     "name": "stdout",
     "output_type": "stream",
     "text": [
      "H243178-Email-1.jpg:Label not found\n",
      "H243178-Email-5.jpg:Label not found\n",
      "H243178-Email-0.jpg:Label not found\n"
     ]
    }
   ],
   "source": [
    "for image_name in name_of_image:\n",
    "# Specify location:\n",
    "    img_loc = os.path.join(input_dir, image_name)\n",
    "    if image_name.endswith((\".png\",\"jpg\")):\n",
    "        label_loc = os.path.join(label_dir, \"{}txt\".format(image_name[:-3]))\n",
    "    elif image_name.endswith((\"jpeg\")):\n",
    "        label_loc = os.path.join(label_dir, \"{}txt\".format(image_name[:-4]))\n",
    "\n",
    "# Read the original image:\n",
    "    img = cv2.imread(img_loc,1)\n",
    "    \n",
    "# Read the original label:\n",
    "    try:\n",
    "        df = pd.read_csv(label_loc, header = None, delimiter=\" \", names=box)\n",
    "    except FileNotFoundError:\n",
    "        print(\"{}:Label not found\".format(image_name))\n",
    "        continue\n",
    "    df['Class'] = df['Class'].map(classes)\n",
    "    \n",
    "# Creating Bounding Boxes on image: \n",
    "    img_copy=img.copy()\n",
    "    for i in range(len(df)):\n",
    "        x=df.iloc[i][1]*img.shape[1]\n",
    "        y=df.iloc[i][2]*img.shape[0]\n",
    "        w=df.iloc[i][3]*img.shape[1]\n",
    "        h=df.iloc[i][4]*img.shape[0]\n",
    "        start_point = (int(x-(0.5*w)), int(y-(0.5*h)))\n",
    "        end_point = (int(x+(0.5*w)), int(y+(0.5*h)))\n",
    "        new_img = cv2.rectangle( img_copy, start_point, end_point, box_color, box_thickness)\n",
    "\n",
    "# Save the new image:\n",
    "    if save_debug_images==1:\n",
    "        if len(df)==0:\n",
    "            cv2.imwrite(debug_dir+\"boxed_{}\".format(image_name), img)\n",
    "        else:\n",
    "            cv2.imwrite(debug_dir+\"boxed_{}\".format(image_name), new_img)"
   ]
  },
  {
   "cell_type": "code",
   "execution_count": null,
   "id": "middle-cameroon",
   "metadata": {},
   "outputs": [],
   "source": []
  }
 ],
 "metadata": {
  "kernelspec": {
   "display_name": "Python 3",
   "language": "python",
   "name": "python3"
  },
  "language_info": {
   "codemirror_mode": {
    "name": "ipython",
    "version": 3
   },
   "file_extension": ".py",
   "mimetype": "text/x-python",
   "name": "python",
   "nbconvert_exporter": "python",
   "pygments_lexer": "ipython3",
   "version": "3.8.5"
  }
 },
 "nbformat": 4,
 "nbformat_minor": 5
}
